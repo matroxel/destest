{
 "cells": [
  {
   "cell_type": "code",
   "execution_count": 3,
   "metadata": {
    "collapsed": false
   },
   "outputs": [
    {
     "name": "stdout",
     "output_type": "stream",
     "text": [
      "Populating the interactive namespace from numpy and matplotlib\n"
     ]
    }
   ],
   "source": [
    "pylab inline"
   ]
  },
  {
   "cell_type": "code",
   "execution_count": 8,
   "metadata": {
    "collapsed": true
   },
   "outputs": [],
   "source": [
    "import fitsio"
   ]
  },
  {
   "cell_type": "code",
   "execution_count": 26,
   "metadata": {
    "collapsed": false
   },
   "outputs": [],
   "source": [
    "i3_fits=fitsio.FITS(\"/global/cscratch1/sd/troxel/finaly1cats/y1a1-im3shape_v5_matched_v6.fits\")\n",
    "mc_fits=fitsio.FITS(\"/global/cscratch1/sd/troxel/finaly1cats/mcal-y1a1-combined-riz-blind-v4-matched.fits\")"
   ]
  },
  {
   "cell_type": "code",
   "execution_count": 27,
   "metadata": {
    "collapsed": false
   },
   "outputs": [],
   "source": [
    "mc_data=mc_fits[1].read_columns(['ra', 'dec',  'snr', 'R11', 'R22', 'flags_select', 'e1'])"
   ]
  },
  {
   "cell_type": "code",
   "execution_count": null,
   "metadata": {
    "collapsed": true
   },
   "outputs": [],
   "source": [
    "i3_data=i3_fits[1].read_columns(['ra', 'dec',  'snr', 'weight', 'flags_select', 'e1'])"
   ]
  },
  {
   "cell_type": "code",
   "execution_count": 11,
   "metadata": {
    "collapsed": false
   },
   "outputs": [],
   "source": [
    "i3_select=np.where(i3_data['flags_select']==0)\n",
    "i3_snr = i3_data['snr'][i3_select]\n",
    "i3_w = i3_data['weight'][i3_select]\n",
    "i3_e1 = i3_data['e1'][i3_select]"
   ]
  },
  {
   "cell_type": "code",
   "execution_count": 29,
   "metadata": {
    "collapsed": false
   },
   "outputs": [],
   "source": [
    "mc_select=np.where(mc_data['flags_select']==0)\n",
    "mc_snr = mc_data['snr'][mc_select]\n",
    "mc_w =   0.5*(mc_data['R11'][mc_select]+mc_data['R22'][mc_select])\n",
    "#mc_e1 =  mc_data['e1'][mc_select]"
   ]
  },
  {
   "cell_type": "code",
   "execution_count": 12,
   "metadata": {
    "collapsed": true
   },
   "outputs": [],
   "source": [
    "import scipy.stats"
   ]
  },
  {
   "cell_type": "code",
   "execution_count": 13,
   "metadata": {
    "collapsed": true
   },
   "outputs": [],
   "source": [
    "variances,edges,bins = scipy.stats.binned_statistic(i3_snr, i3_e1, np.var, bins=20)\n",
    "mean_snr,edges2,bins2 = scipy.stats.binned_statistic(i3_snr, i3_snr, \"mean\", bins=20)"
   ]
  },
  {
   "cell_type": "code",
   "execution_count": 14,
   "metadata": {
    "collapsed": false
   },
   "outputs": [
    {
     "data": {
      "text/plain": [
       "[<matplotlib.lines.Line2D at 0x2b12f0064550>]"
      ]
     },
     "execution_count": 14,
     "metadata": {},
     "output_type": "execute_result"
    },
    {
     "data": {
      "image/png": "[encoded data removed]",
      "text/plain": [
       "<matplotlib.figure.Figure at 0x2b12edf6b690>"
      ]
     },
     "metadata": {},
     "output_type": "display_data"
    }
   ],
   "source": [
    "plot(mean_snr, variances)"
   ]
  },
  {
   "cell_type": "code",
   "execution_count": 15,
   "metadata": {
    "collapsed": false
   },
   "outputs": [],
   "source": [
    "sigma_sh2 = variances[-1]\n",
    "w_sum = i3_w.sum()\n"
   ]
  },
  {
   "cell_type": "code",
   "execution_count": 30,
   "metadata": {
    "collapsed": false
   },
   "outputs": [],
   "source": [
    "import healpy\n",
    "nside=1024\n",
    "npix=healpy.nside2npix(nside)\n",
    "Apix=healpy.nside2pixarea(nside, degrees=True)\n",
    "\n",
    "i3_theta=np.radians(90-i3_data['dec'][i3_select])\n",
    "i3_phi=np.radians(i3_data['ra'][i3_select])\n",
    "\n",
    "mc_theta=np.radians(90-mc_data['dec'][mc_select])\n",
    "mc_phi=np.radians(mc_data['ra'][mc_select])\n",
    "\n",
    "\n",
    "def get_area(theta,phi):\n",
    "    pix=healpy.ang2pix(nside,theta,phi)\n",
    "    m=np.zeros(npix)\n",
    "    m[pix]=1\n",
    "    A=m.sum()*Apix*60**2\n",
    "    return A\n",
    "\n",
    "#i3_A = get_area(i3_theta, i3_phi)\n",
    "mc_A = get_area(mc_theta, mc_phi)"
   ]
  },
  {
   "cell_type": "code",
   "execution_count": 32,
   "metadata": {
    "collapsed": false
   },
   "outputs": [
    {
     "data": {
      "text/plain": [
       "(6082370.2266195705, 6298203.767259866)"
      ]
     },
     "execution_count": 32,
     "metadata": {},
     "output_type": "execute_result"
    }
   ],
   "source": [
    "\n",
    "i3_A, mc_A"
   ]
  },
  {
   "cell_type": "code",
   "execution_count": 18,
   "metadata": {
    "collapsed": false
   },
   "outputs": [],
   "source": []
  },
  {
   "cell_type": "code",
   "execution_count": 19,
   "metadata": {
    "collapsed": false
   },
   "outputs": [],
   "source": []
  },
  {
   "cell_type": "code",
   "execution_count": 20,
   "metadata": {
    "collapsed": false
   },
   "outputs": [],
   "source": [
    "n_eff_i3 = sigma_sh2 * w_sum / i3_A\n"
   ]
  },
  {
   "cell_type": "code",
   "execution_count": 21,
   "metadata": {
    "collapsed": false
   },
   "outputs": [
    {
     "name": "stdout",
     "output_type": "stream",
     "text": [
      "2.91001962333\n"
     ]
    }
   ],
   "source": [
    "print n_eff"
   ]
  },
  {
   "cell_type": "code",
   "execution_count": 37,
   "metadata": {
    "collapsed": false
   },
   "outputs": [
    {
     "data": {
      "text/plain": [
       "3.7307514256942769"
      ]
     },
     "execution_count": 37,
     "metadata": {},
     "output_type": "execute_result"
    }
   ],
   "source": [
    "i3_w.sum()**2 / (i3_w**2).sum() / i3_A"
   ]
  },
  {
   "cell_type": "code",
   "execution_count": 33,
   "metadata": {
    "collapsed": false
   },
   "outputs": [
    {
     "data": {
      "text/plain": [
       "3.5240875614075278"
      ]
     },
     "execution_count": 33,
     "metadata": {},
     "output_type": "execute_result"
    }
   ],
   "source": [
    "mc_w.sum()**2 / (mc_w**2).sum() / mc_A"
   ]
  },
  {
   "cell_type": "code",
   "execution_count": 23,
   "metadata": {
    "collapsed": true
   },
   "outputs": [],
   "source": [
    "mc_fits=fitsio.FITS(\"/global/cscratch1/sd/troxel/finaly1cats/mcal-y1a1-combined-riz-blind-v4-matched.fits\")"
   ]
  },
  {
   "cell_type": "code",
   "execution_count": 38,
   "metadata": {
    "collapsed": false
   },
   "outputs": [
    {
     "data": {
      "text/plain": [
       "5.531643510981139"
      ]
     },
     "execution_count": 38,
     "metadata": {},
     "output_type": "execute_result"
    }
   ],
   "source": [
    "len(mc_w)/mc_A"
   ]
  },
  {
   "cell_type": "code",
   "execution_count": 39,
   "metadata": {
    "collapsed": false
   },
   "outputs": [
    {
     "data": {
      "text/plain": [
       "4.0513023840863998"
      ]
     },
     "execution_count": 39,
     "metadata": {},
     "output_type": "execute_result"
    }
   ],
   "source": [
    "len(i3_w)/i3_A"
   ]
  },
  {
   "cell_type": "code",
   "execution_count": 40,
   "metadata": {
    "collapsed": false
   },
   "outputs": [
    {
     "data": {
      "text/plain": [
       "62.770560015145477"
      ]
     },
     "execution_count": 40,
     "metadata": {},
     "output_type": "execute_result"
    }
   ],
   "source": [
    "mc_w.max()"
   ]
  },
  {
   "cell_type": "code",
   "execution_count": 44,
   "metadata": {
    "collapsed": false
   },
   "outputs": [
    {
     "data": {
      "text/plain": [
       "(array([   41896.,    54928.,    72944.,    96457.,   125970.,   165690.,\n",
       "          219426.,   288236.,   382827.,   508994.,   683988.,   916260.,\n",
       "         1241042.,  1699421.,  2368685.,  3539150.,  5692281.,  6855973.,\n",
       "         5831431.,  1875655.,   733696.,   399978.,   250715.,   168080.,\n",
       "          116813.,    83595.,    60114.,    43371.,    31631.,    23748.]),\n",
       " array([-1. , -0.9, -0.8, -0.7, -0.6, -0.5, -0.4, -0.3, -0.2, -0.1,  0. ,\n",
       "         0.1,  0.2,  0.3,  0.4,  0.5,  0.6,  0.7,  0.8,  0.9,  1. ,  1.1,\n",
       "         1.2,  1.3,  1.4,  1.5,  1.6,  1.7,  1.8,  1.9,  2. ]),\n",
       " <a list of 30 Patch objects>)"
      ]
     },
     "execution_count": 44,
     "metadata": {},
     "output_type": "execute_result"
    },
    {
     "data": {
      "image/png": "[encoded data removed]",
      "text/plain": [
       "<matplotlib.figure.Figure at 0x2b132a57b9d0>"
      ]
     },
     "metadata": {},
     "output_type": "display_data"
    }
   ],
   "source": [
    "hist(mc_w, bins=30, range=(-1,2))"
   ]
  },
  {
   "cell_type": "code",
   "execution_count": 45,
   "metadata": {
    "collapsed": false
   },
   "outputs": [
    {
     "data": {
      "text/plain": [
       "(array([ 1382559.,  2332818.,  2440261.,  2426326.,  2449759.,  2632253.,\n",
       "         4066032.,  2386445.,  1446529.,  1039152.,   850632.,   445764.,\n",
       "          165402.,   122544.,    92576.,    71711.,    56027.,    44452.,\n",
       "           35750.,    29126.,    24093.,    20095.,    17109.,    14715.,\n",
       "           12267.,    10443.,     8704.,     7031.,     5964.,     4982.]),\n",
       " array([  8.34049769,   9.73307214,  11.1256466 ,  12.51822106,\n",
       "         13.91079552,  15.30336997,  16.69594443,  18.08851889,\n",
       "         19.48109334,  20.8736678 ,  22.26624226,  23.65881672,\n",
       "         25.05139117,  26.44396563,  27.83654009,  29.22911454,\n",
       "         30.621689  ,  32.01426346,  33.40683792,  34.79941237,\n",
       "         36.19198683,  37.58456129,  38.97713574,  40.3697102 ,\n",
       "         41.76228466,  43.15485912,  44.54743357,  45.94000803,\n",
       "         47.33258249,  48.72515694,  50.1177314 ]),\n",
       " <a list of 30 Patch objects>)"
      ]
     },
     "execution_count": 45,
     "metadata": {},
     "output_type": "execute_result"
    },
    {
     "data": {
      "image/png": "[encoded data removed]",
      "text/plain": [
       "<matplotlib.figure.Figure at 0x2b132a513910>"
      ]
     },
     "metadata": {},
     "output_type": "display_data"
    }
   ],
   "source": [
    "hist(i3_w, bins=30)"
   ]
  },
  {
   "cell_type": "code",
   "execution_count": 46,
   "metadata": {
    "collapsed": false
   },
   "outputs": [
    {
     "data": {
      "text/plain": [
       "0"
      ]
     },
     "execution_count": 46,
     "metadata": {},
     "output_type": "execute_result"
    }
   ],
   "source": []
  },
  {
   "cell_type": "code",
   "execution_count": null,
   "metadata": {
    "collapsed": true
   },
   "outputs": [],
   "source": []
  }
 ],
 "metadata": {
  "kernelspec": {
   "display_name": "Python 2",
   "language": "python",
   "name": "python2"
  },
  "language_info": {
   "codemirror_mode": {
    "name": "ipython",
    "version": 2
   },
   "file_extension": ".py",
   "mimetype": "text/x-python",
   "name": "python",
   "nbconvert_exporter": "python",
   "pygments_lexer": "ipython2",
   "version": "2.7.12"
  }
 },
 "nbformat": 4,
 "nbformat_minor": 0
}
