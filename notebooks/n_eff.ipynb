{
 "cells": [
  {
   "cell_type": "code",
   "execution_count": 1,
   "metadata": {
    "collapsed": false
   },
   "outputs": [
    {
     "name": "stdout",
     "output_type": "stream",
     "text": [
      "Populating the interactive namespace from numpy and matplotlib\n"
     ]
    }
   ],
   "source": [
    "pylab inline"
   ]
  },
  {
   "cell_type": "code",
   "execution_count": 2,
   "metadata": {
    "collapsed": true
   },
   "outputs": [],
   "source": [
    "import fitsio"
   ]
  },
  {
   "cell_type": "code",
   "execution_count": 3,
   "metadata": {
    "collapsed": false
   },
   "outputs": [],
   "source": [
    "i3_fits=fitsio.FITS(\"/global/cscratch1/sd/troxel/finaly1cats/y1a1-im3shape_v5_matched_v6.fits\")\n",
    "mc_fits=fitsio.FITS(\"/global/cscratch1/sd/troxel/finaly1cats/mcal-y1a1-combined-riz-blind-v4-matched.fits\")"
   ]
  },
  {
   "cell_type": "code",
   "execution_count": 29,
   "metadata": {
    "collapsed": false
   },
   "outputs": [],
   "source": [
    "mc_data=mc_fits[1].read_columns(['snr', 'R11', 'R22', 'flags_select', 'e1', 'covmat_0_0'])"
   ]
  },
  {
   "cell_type": "code",
   "execution_count": 5,
   "metadata": {
    "collapsed": false
   },
   "outputs": [],
   "source": [
    "i3_data=i3_fits[1].read_columns(['snr', 'weight', 'flags_select', 'e1', 'm'])"
   ]
  },
  {
   "cell_type": "code",
   "execution_count": 6,
   "metadata": {
    "collapsed": false
   },
   "outputs": [],
   "source": [
    "i3_select=i3_data['flags_select']==0\n",
    "i3_snr = i3_data['snr'][i3_select]\n",
    "i3_w = i3_data['weight'][i3_select]\n",
    "i3_e1 = i3_data['e1'][i3_select]"
   ]
  },
  {
   "cell_type": "code",
   "execution_count": 30,
   "metadata": {
    "collapsed": true
   },
   "outputs": [],
   "source": [
    "mc_select=mc_data['flags_select']==0\n",
    "mc_snr = mc_data['snr'][mc_select]\n",
    "mc_R =   0.5*(mc_data['R11'][mc_select]+mc_data['R22'][mc_select])\n",
    "mc_e1 =  mc_data['e1'][mc_select]\n",
    "mc_C00 = mc_data['covmat_0_0'][mc_select]"
   ]
  },
  {
   "cell_type": "code",
   "execution_count": 8,
   "metadata": {
    "collapsed": true
   },
   "outputs": [],
   "source": [
    "area = 1515. * 60 * 60"
   ]
  },
  {
   "cell_type": "code",
   "execution_count": 33,
   "metadata": {
    "collapsed": false
   },
   "outputs": [],
   "source": [
    "# Im3shape raw\n",
    "i3_raw = i3_select.sum() / area\n",
    "# Metacal raw\n",
    "mc_raw = mc_select.sum() / area\n",
    "\n",
    "# Im3shape heymans\n",
    "i3_hey = i3_w.sum()**2 / (i3_w**2).sum() / area\n",
    "#Metacal heymans\n",
    "mc_hey = mc_raw\n",
    "\n",
    "#Im3shape Chang\n",
    "i3_shape = i3_e1[i3_snr>100].var()\n",
    "i3_total = 1.0/i3_w.sum()\n",
    "i3_chang1 = i3_shape / i3_total / area\n",
    "i3_chang2 = i3_e1[i3_snr>150].var() * i3_w.sum() / area\n",
    "\n",
    "#Metacal Chang\n",
    "mc_shape = mc_e1[mc_snr>100].std() / mc_R[mc_snr>100].mean()\n",
    "mc_noise = mc_C00 / mc_R.mean()**2\n",
    "mc_chang =  (mc_shape / (mc_shape+mc_noise)).sum() / area\n"
   ]
  },
  {
   "cell_type": "code",
   "execution_count": 34,
   "metadata": {
    "collapsed": false
   },
   "outputs": [
    {
     "name": "stdout",
     "output_type": "stream",
     "text": [
      "\n",
      "i3_raw: 4.51806398973\n",
      "mc_raw: 6.38786541988\n",
      "i3_hey: 4.16058148048\n",
      "mc_hey: 6.38786541988\n",
      "i3_chang: 3.35045471856, 3.27105948099\n",
      "mc_chang: 6.24020258654\n",
      "\n"
     ]
    }
   ],
   "source": [
    "print \"\"\"\n",
    "i3_raw: {i3_raw}\n",
    "mc_raw: {mc_raw}\n",
    "i3_hey: {i3_hey}\n",
    "mc_hey: {mc_hey}\n",
    "i3_chang: {i3_chang1}, {i3_chang2}\n",
    "mc_chang: {mc_chang}\n",
    "\"\"\".format(**locals())"
   ]
  },
  {
   "cell_type": "code",
   "execution_count": null,
   "metadata": {
    "collapsed": true
   },
   "outputs": [],
   "source": []
  }
 ],
 "metadata": {
  "kernelspec": {
   "display_name": "Python 2",
   "language": "python",
   "name": "python2"
  },
  "language_info": {
   "codemirror_mode": {
    "name": "ipython",
    "version": 2
   },
   "file_extension": ".py",
   "mimetype": "text/x-python",
   "name": "python",
   "nbconvert_exporter": "python",
   "pygments_lexer": "ipython2",
   "version": "2.7.12"
  }
 },
 "nbformat": 4,
 "nbformat_minor": 0
}
