{
 "cells": [
  {
   "cell_type": "code",
   "execution_count": 1,
   "metadata": {
    "collapsed": false
   },
   "outputs": [
    {
     "name": "stdout",
     "output_type": "stream",
     "text": [
      "No mpi4py\n"
     ]
    }
   ],
   "source": [
    "import numpy as np\n",
    "import os\n",
    "import fitsio as fio\n",
    "import healpy as hp\n",
    "import src.catalog as catalog\n",
    "import src.config as config\n",
    "import src.fig as fig\n",
    "import src.lin as lin\n",
    "import src.sys_split as sys_split\n",
    "import src.corr as corr\n",
    "import src.field as field\n",
    "import src.pz as pz\n",
    "import src.cosmo as cosmo\n",
    "import src.y1shearcat as y1\n",
    "import src.txt as txt\n",
    "import cPickle\n",
    "import scipy.stats"
   ]
  },
  {
   "cell_type": "code",
   "execution_count": 2,
   "metadata": {
    "collapsed": true
   },
   "outputs": [],
   "source": [
    "#This lets you view PDF images in the browser\n",
    "class PDF(object):\n",
    "  def __init__(self, pdf, size=(800,800)):\n",
    "    self.pdf = pdf\n",
    "    self.size = size\n",
    "\n",
    "  def _repr_html_(self):\n",
    "    return '<iframe src={0} width={1[0]} height={1[1]}></iframe>'.format(self.pdf, self.size)\n",
    "\n",
    "  def _repr_latex_(self):\n",
    "    return r'\\includegraphics[width=1.0\\textwidth]{{{0}}}'.format(self.pdf)"
   ]
  },
  {
   "cell_type": "code",
   "execution_count": 3,
   "metadata": {
    "collapsed": true
   },
   "outputs": [],
   "source": [
    "goldfile  = '/global/cscratch1/sd/troxel/finaly1cats/y1a1-gold-mof-badregion.fits'\n",
    "i3file    = '/global/cscratch1/sd/troxel/finaly1cats/y1a1-im3shape_v5_matched_v6.fits'\n",
    "mcalfile  = '/global/cscratch1/sd/troxel/finaly1cats/mcal-y1a1-combined-riz-blind-v4-matched.fits'\n",
    "i3pickle  = '/global/cscratch1/sd/troxel/finaly1cats/i3.cpickle'\n",
    "mcalpickle= '/global/cscratch1/sd/troxel/finaly1cats/mcal.cpickle'\n",
    "bpzfile   = '/global/cscratch1/sd/troxel/finaly1cats/BPZ_ngmix_mof_slr_HiZ_combined_matched.fits'\n",
    "bpz0file  = '/global/cscratch1/sd/troxel/finaly1cats/BPZ_ngmix_sheared_matched.fits'\n",
    "\n",
    "i3epochdir= '/project/projectdirs/des/wl/desdata/wlpipe/im3shape_y1a1_v5/bord/epoch/'\n",
    "mcalepochdir = '/global/cscratch1/sd/troxel/finaly1cats/'\n",
    "i3epochpickle  = '/global/cscratch1/sd/troxel/finaly1cats/i3epoch.cpickle'\n",
    "mcalepochpickle= '/global/cscratch1/sd/troxel/finaly1cats/mcalepoch.cpickle'\n",
    "imagefile = '/global/cscratch1/sd/troxel/finaly1cats/y1a1_image_id.fits'\n"
   ]
  },
  {
   "cell_type": "code",
   "execution_count": 12,
   "metadata": {
    "collapsed": false
   },
   "outputs": [],
   "source": [
    "mcalepoch,i3epoch = y1.y1.load_epoch_data(i3epochdir,mcalepochdir,imagefile,i3pickle,mcalpickle,i3epochpickle,mcalepochpickle)\n",
    "mcalepoch.ccd=mcalepoch.ccd.astype(int)-1\n",
    "i3epoch.ccd=i3epoch.ccd.astype(int)-1"
   ]
  },
  {
   "cell_type": "code",
   "execution_count": 18,
   "metadata": {
    "collapsed": false
   },
   "outputs": [],
   "source": [
    "def make_fov_data(i3epoch,mcalepoch):\n",
    "    import scipy.stats\n",
    "    mcal_e1=[]\n",
    "    mcal_e2=[]\n",
    "    bins=(5,10)\n",
    "    for ccd in xrange(62):\n",
    "        w=np.where(mcalepoch.ccd==ccd)\n",
    "        if len(w[0])==0:\n",
    "            e1=np.zeros(bins)/0.0\n",
    "            e2=np.zeros(bins)/0.0\n",
    "        else:\n",
    "            row=mcalepoch.row[w]\n",
    "            col=mcalepoch.col[w]\n",
    "            e1=mcalepoch.e1[w]\n",
    "            e2=mcalepoch.e2[w]\n",
    "            e1, _, _, _ = scipy.stats.binned_statistic_2d(row,col,e1, bins=bins)\n",
    "            e2, _, _, _ = scipy.stats.binned_statistic_2d(row,col,e2, bins=bins)    \n",
    "        mcal_e1.append(e1)\n",
    "        mcal_e2.append(e2)\n",
    "\n",
    "    i3_e1=[]\n",
    "    i3_e2=[]\n",
    "    for ccd in xrange(62):\n",
    "        w=np.where(i3epoch.ccd==ccd)\n",
    "        if len(w[0])==0:\n",
    "            e1=np.zeros(bins)/0.0\n",
    "            e2=np.zeros(bins)/0.0\n",
    "        else:\n",
    "            row=i3epoch.row[w]\n",
    "            col=i3epoch.col[w]\n",
    "            e1=i3epoch.e1[w]\n",
    "            e2=i3epoch.e2[w]\n",
    "            e1, _, _, _ = scipy.stats.binned_statistic_2d(row,col,e1, bins=bins)\n",
    "            e2, _, _, _ = scipy.stats.binned_statistic_2d(row,col,e2, bins=bins)    \n",
    "        i3_e1.append(e1)\n",
    "        i3_e2.append(e2)\n",
    "    fov_data = mcal_e1, mcal_e2, i3_e1, i3_e2\n",
    "    return fov_data"
   ]
  },
  {
   "cell_type": "code",
   "execution_count": 19,
   "metadata": {
    "collapsed": false
   },
   "outputs": [],
   "source": [
    "fov_data = make_fov_data(i3epoch,mcalepoch)\n",
    "cPickle.dump(fov_data, open(\"text/fov_data_10.pickle\", \"w\"))"
   ]
  },
  {
   "cell_type": "code",
   "execution_count": 4,
   "metadata": {
    "collapsed": false
   },
   "outputs": [],
   "source": [
    "fov_data = cPickle.load(open(\"text/fov_data_10.pickle\"))"
   ]
  },
  {
   "cell_type": "code",
   "execution_count": 9,
   "metadata": {
    "collapsed": false
   },
   "outputs": [],
   "source": [
    "mcal_e1, mcal_e2, i3_e1, i3_e2 = fov_data\n"
   ]
  },
  {
   "cell_type": "code",
   "execution_count": 20,
   "metadata": {
    "collapsed": false
   },
   "outputs": [],
   "source": [
    "def make_fov_plot(fov_data, cmap, filename):\n",
    "    from matplotlib import transforms\n",
    "    rot = transforms.Affine2D().rotate_deg(-90)\n",
    "\n",
    "    mcal_e1, mcal_e2, i3_e1, i3_e2 = fov_data\n",
    "    import matplotlib.pyplot as plt\n",
    "    import matplotlib.gridspec as gridspec\n",
    "    fig=plt.figure(figsize=(8,8))\n",
    "    gs = gridspec.GridSpec(8, 9)\n",
    "    mcal_e1_ax=gs[0:4,0:4]\n",
    "    mcal_e2_ax=gs[4:8,0:4]\n",
    "    i3_e1_ax=gs[0:4,4:8]\n",
    "    i3_e2_ax=gs[4:8,4:8]\n",
    "    gs2 = gridspec.GridSpec(8, 18)\n",
    "    cbar_ax=ax=plt.subplot(gs2[2:6,17])\n",
    "\n",
    "    def do_plane(E,spec):\n",
    "        ax=plt.subplot(spec)\n",
    "        ax.set_frame_on(False)\n",
    "        ax.set_xticks([])\n",
    "        ax.set_yticks([])\n",
    "\n",
    "        corners=field.field_methods.ccd_corners()\n",
    "        for c,e in zip(corners,E):\n",
    "            left=c[0][1]\n",
    "            right=c[1][1]\n",
    "            bottom=c[0][0]\n",
    "            top=c[2][0]\n",
    "            extent=((left,right,bottom,top))\n",
    "            extent=((bottom,top,-right,-left))\n",
    "            im=ax.imshow(e.T,extent=extent,interpolation='nearest',vmin=-0.004,vmax=0.004, cmap=cmap)\n",
    "        plt.xlim(-202,202)\n",
    "        plt.ylim(-220,220)\n",
    "        return ax,im\n",
    "\n",
    "\n",
    "    ax,im=do_plane(mcal_e1, mcal_e1_ax)\n",
    "    ax.set_ylabel(\"$e_1$\", labelpad=25)\n",
    "\n",
    "    ax,im=do_plane(mcal_e2, mcal_e2_ax)\n",
    "    ax.set_title(r\"{\\sc Metacal}\", variant='small-caps', family='serif')\n",
    "    ax.set_ylabel(\"$e_2$\", labelpad=25)\n",
    "\n",
    "    ax,im=do_plane(i3_e1, i3_e1_ax)\n",
    "\n",
    "    ax,im=do_plane(i3_e2, i3_e2_ax)\n",
    "    ax.set_title(r\"{\\sc Im3shape}\", variant='small-caps', family='serif')\n",
    "\n",
    "    plt.colorbar(im,cax=cbar_ax)\n",
    "    plt.savefig(filename)\n",
    "    plt.close()"
   ]
  },
  {
   "cell_type": "code",
   "execution_count": 21,
   "metadata": {
    "collapsed": false
   },
   "outputs": [],
   "source": [
    "make_fov_plot(fov_data,'plasma', 'plots/y1/mean_e_fov.pdf')\n",
    "#Image(filename='tmp.png') "
   ]
  },
  {
   "cell_type": "code",
   "execution_count": 22,
   "metadata": {
    "collapsed": false
   },
   "outputs": [
    {
     "data": {
      "text/html": [
       "<iframe src=plots/y1/mean_e_fov.pdf width=800 height=800></iframe>"
      ],
      "text/latex": [
       "\\includegraphics[width=1.0\\textwidth]{plots/y1/mean_e_fov.pdf}"
      ],
      "text/plain": [
       "<__main__.PDF at 0x2ab475084850>"
      ]
     },
     "execution_count": 22,
     "metadata": {},
     "output_type": "execute_result"
    }
   ],
   "source": [
    "PDF(\"plots/y1/mean_e_fov.pdf\")"
   ]
  }
 ],
 "metadata": {
  "kernelspec": {
   "display_name": "Python 2",
   "language": "python",
   "name": "python2"
  },
  "language_info": {
   "codemirror_mode": {
    "name": "ipython",
    "version": 2
   },
   "file_extension": ".py",
   "mimetype": "text/x-python",
   "name": "python",
   "nbconvert_exporter": "python",
   "pygments_lexer": "ipython2",
   "version": "2.7.12"
  }
 },
 "nbformat": 4,
 "nbformat_minor": 0
}
