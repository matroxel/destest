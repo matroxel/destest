{
 "cells": [
  {
   "cell_type": "code",
   "execution_count": 2,
   "metadata": {
    "collapsed": false
   },
   "outputs": [
    {
     "name": "stdout",
     "output_type": "stream",
     "text": [
      "No mpi4py\n"
     ]
    }
   ],
   "source": [
    "import numpy as np\n",
    "import os\n",
    "import fitsio as fio\n",
    "import healpy as hp\n",
    "import src.catalog as catalog\n",
    "import src.config as config\n",
    "import src.fig as fig\n",
    "import src.lin as lin\n",
    "import src.sys_split as sys_split\n",
    "import src.corr as corr\n",
    "import src.field as field\n",
    "import src.pz as pz\n",
    "import src.cosmo as cosmo\n",
    "import src.y1shearcat as y1\n",
    "import src.txt as txt\n",
    "\n",
    "import matplotlib.pyplot as plt\n"
   ]
  },
  {
   "cell_type": "code",
   "execution_count": 3,
   "metadata": {
    "collapsed": true
   },
   "outputs": [],
   "source": [
    "class PDF(object):\n",
    "  def __init__(self, pdf, size=(200,200)):\n",
    "    self.pdf = pdf\n",
    "    self.size = size\n",
    "\n",
    "  def _repr_html_(self):\n",
    "    return '<iframe src={0} width={1[0]} height={1[1]}></iframe>'.format(self.pdf, self.size)\n",
    "\n",
    "  def _repr_latex_(self):\n",
    "    return r'\\includegraphics[width=1.0\\textwidth]{{{0}}}'.format(self.pdf)\n"
   ]
  },
  {
   "cell_type": "code",
   "execution_count": null,
   "metadata": {
    "collapsed": true
   },
   "outputs": [],
   "source": [
    "goldfile  = '/global/cscratch1/sd/troxel/finaly1cats/y1a1-gold-mof-badregion.fits'\n",
    "i3file    = '/global/cscratch1/sd/troxel/finaly1cats/y1a1-im3shape_v5_matched_v6.fits'\n",
    "mcalfile  = '/global/cscratch1/sd/troxel/finaly1cats/mcal-y1a1-combined-riz-blind-v4-matched.fits'\n",
    "i3pickle  = '/global/cscratch1/sd/troxel/finaly1cats/i3.cpickle'\n",
    "mcalpickle= '/global/cscratch1/sd/troxel/finaly1cats/mcal.cpickle'\n",
    "bpzfile   = '/global/cscratch1/sd/troxel/finaly1cats/BPZ_ngmix_mof_slr_HiZ_combined_matched.fits'\n",
    "bpz0file  = '/global/cscratch1/sd/troxel/finaly1cats/BPZ_ngmix_sheared_matched.fits'\n"
   ]
  },
  {
   "cell_type": "code",
   "execution_count": null,
   "metadata": {
    "collapsed": false
   },
   "outputs": [],
   "source": [
    "mcal_data=fio.FITS(mcalfile)[1].read_columns(['ra','dec', 'flags_select'])\n"
   ]
  },
  {
   "cell_type": "code",
   "execution_count": null,
   "metadata": {
    "collapsed": true
   },
   "outputs": [],
   "source": [
    "flags0=(mcal_data['flags_select']<=2)"
   ]
  },
  {
   "cell_type": "code",
   "execution_count": null,
   "metadata": {
    "collapsed": false
   },
   "outputs": [],
   "source": [
    "ra=mcal_data['ra'][flags0]\n",
    "dec=mcal_data['dec'][flags0]\n"
   ]
  },
  {
   "cell_type": "code",
   "execution_count": null,
   "metadata": {
    "collapsed": false
   },
   "outputs": [],
   "source": [
    "plt.close()"
   ]
  },
  {
   "cell_type": "code",
   "execution_count": null,
   "metadata": {
    "collapsed": true
   },
   "outputs": [],
   "source": [
    "good = ((ra<100) | (ra>290)) & (dec>-60)\n",
    "\n"
   ]
  },
  {
   "cell_type": "code",
   "execution_count": null,
   "metadata": {
    "collapsed": true
   },
   "outputs": [],
   "source": [
    "ra_good=ra[good]\n",
    "dec_good=dec[good]"
   ]
  },
  {
   "cell_type": "code",
   "execution_count": 84,
   "metadata": {
    "collapsed": false
   },
   "outputs": [
    {
     "data": {
      "text/html": [
       "<iframe src=footprint.pdf width=600 height=600></iframe>"
      ],
      "text/latex": [
       "\\includegraphics[width=1.0\\textwidth]{footprint.pdf}"
      ],
      "text/plain": [
       "<__main__.PDF at 0x2ab0f4ae2fd0>"
      ]
     },
     "execution_count": 84,
     "metadata": {},
     "output_type": "execute_result"
    }
   ],
   "source": [
    "reload(y1)\n",
    "fig = plt.figure(figsize=(6.5,6))\n",
    "y1.y1_plots.footprint_sub(ra_good, dec_good,10,10,128,fig)\n",
    "plt.savefig('footprint.pdf', bbox_inches='tight')\n",
    "plt.close()\n",
    "PDF('footprint.pdf', size=(600,600))\n"
   ]
  },
  {
   "cell_type": "code",
   "execution_count": null,
   "metadata": {
    "collapsed": false
   },
   "outputs": [],
   "source": []
  },
  {
   "cell_type": "code",
   "execution_count": null,
   "metadata": {
    "collapsed": true
   },
   "outputs": [],
   "source": []
  }
 ],
 "metadata": {
  "kernelspec": {
   "display_name": "Python 2",
   "language": "python",
   "name": "python2"
  },
  "language_info": {
   "codemirror_mode": {
    "name": "ipython",
    "version": 2
   },
   "file_extension": ".py",
   "mimetype": "text/x-python",
   "name": "python",
   "nbconvert_exporter": "python",
   "pygments_lexer": "ipython2",
   "version": "2.7.12"
  }
 },
 "nbformat": 4,
 "nbformat_minor": 0
}
